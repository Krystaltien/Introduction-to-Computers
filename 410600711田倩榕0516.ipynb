{
  "nbformat": 4,
  "nbformat_minor": 0,
  "metadata": {
    "colab": {
      "name": "410600711田倩榕0516.ipynb",
      "provenance": [],
      "authorship_tag": "ABX9TyP3VnN2X0oYgu/jpj8zeBIN",
      "include_colab_link": true
    },
    "kernelspec": {
      "name": "python3",
      "display_name": "Python 3"
    },
    "language_info": {
      "name": "python"
    }
  },
  "cells": [
    {
      "cell_type": "markdown",
      "metadata": {
        "id": "view-in-github",
        "colab_type": "text"
      },
      "source": [
        "<a href=\"https://colab.research.google.com/github/Krystaltien/Introduction-to-Computers/blob/main/410600711%E7%94%B0%E5%80%A9%E6%A6%950516.ipynb\" target=\"_parent\"><img src=\"https://colab.research.google.com/assets/colab-badge.svg\" alt=\"Open In Colab\"/></a>"
      ]
    },
    {
      "cell_type": "code",
      "execution_count": 1,
      "metadata": {
        "colab": {
          "base_uri": "https://localhost:8080/"
        },
        "id": "mimm4QF_93at",
        "outputId": "1004f990-db43-4728-a523-85f4e5f13097"
      },
      "outputs": [
        {
          "output_type": "stream",
          "name": "stdout",
          "text": [
            "123\n"
          ]
        }
      ],
      "source": [
        "print(\"123\")"
      ]
    },
    {
      "cell_type": "code",
      "source": [
        "i = range(5)"
      ],
      "metadata": {
        "id": "faU2Jo42-CVH"
      },
      "execution_count": 2,
      "outputs": []
    },
    {
      "cell_type": "code",
      "source": [
        "print(type(i))"
      ],
      "metadata": {
        "colab": {
          "base_uri": "https://localhost:8080/"
        },
        "id": "zeLMFnns-GaH",
        "outputId": "8ddc22b6-8724-4491-a445-a247593480d8"
      },
      "execution_count": 3,
      "outputs": [
        {
          "output_type": "stream",
          "name": "stdout",
          "text": [
            "<class 'range'>\n"
          ]
        }
      ]
    },
    {
      "cell_type": "code",
      "source": [
        "print(i)"
      ],
      "metadata": {
        "colab": {
          "base_uri": "https://localhost:8080/"
        },
        "id": "3syr--wz-Lhf",
        "outputId": "fa811c3e-ff9a-4165-d108-f29923fb1127"
      },
      "execution_count": 4,
      "outputs": [
        {
          "output_type": "stream",
          "name": "stdout",
          "text": [
            "range(0, 5)\n"
          ]
        }
      ]
    },
    {
      "cell_type": "code",
      "source": [
        "print(list(i))"
      ],
      "metadata": {
        "colab": {
          "base_uri": "https://localhost:8080/"
        },
        "id": "xK4wS-vF-OMZ",
        "outputId": "67f1f9e7-b41a-4843-dc69-49e8a043ab91"
      },
      "execution_count": 5,
      "outputs": [
        {
          "output_type": "stream",
          "name": "stdout",
          "text": [
            "[0, 1, 2, 3, 4]\n"
          ]
        }
      ]
    },
    {
      "cell_type": "code",
      "source": [
        "a = range(3,8)\n",
        "print(list(a))"
      ],
      "metadata": {
        "colab": {
          "base_uri": "https://localhost:8080/"
        },
        "id": "L6pWojXJ-Vkv",
        "outputId": "703697fa-ce08-41b4-a885-32e10e825a92"
      },
      "execution_count": 6,
      "outputs": [
        {
          "output_type": "stream",
          "name": "stdout",
          "text": [
            "[3, 4, 5, 6, 7]\n"
          ]
        }
      ]
    },
    {
      "cell_type": "code",
      "source": [
        "b = range(-2,4)\n",
        "print(list(b))"
      ],
      "metadata": {
        "colab": {
          "base_uri": "https://localhost:8080/"
        },
        "id": "dYLPSI_T-eYj",
        "outputId": "9c566ad8-1789-4985-ea5d-06a3dfe09515"
      },
      "execution_count": 7,
      "outputs": [
        {
          "output_type": "stream",
          "name": "stdout",
          "text": [
            "[-2, -1, 0, 1, 2, 3]\n"
          ]
        }
      ]
    },
    {
      "cell_type": "code",
      "source": [
        "c = range(3,8,1)\n",
        "print(list(c))"
      ],
      "metadata": {
        "colab": {
          "base_uri": "https://localhost:8080/"
        },
        "id": "IcvywLwc-opu",
        "outputId": "79dd0962-3173-4965-d6aa-1c0276237711"
      },
      "execution_count": 8,
      "outputs": [
        {
          "output_type": "stream",
          "name": "stdout",
          "text": [
            "[3, 4, 5, 6, 7]\n"
          ]
        }
      ]
    },
    {
      "cell_type": "code",
      "source": [
        "f = range(9)\n",
        "print(list(f))"
      ],
      "metadata": {
        "colab": {
          "base_uri": "https://localhost:8080/"
        },
        "id": "tjxZj5Dq_fqK",
        "outputId": "4f49ce9c-2e95-4674-c489-32f347e3187b"
      },
      "execution_count": 9,
      "outputs": [
        {
          "output_type": "stream",
          "name": "stdout",
          "text": [
            "[0, 1, 2, 3, 4, 5, 6, 7, 8]\n"
          ]
        }
      ]
    },
    {
      "cell_type": "code",
      "source": [
        "g = range(1,10)\n",
        "print(list(g))"
      ],
      "metadata": {
        "colab": {
          "base_uri": "https://localhost:8080/"
        },
        "id": "zE6_nzxa_n5q",
        "outputId": "d0c597ae-e830-49b3-e87a-939ba035a8ab"
      },
      "execution_count": 10,
      "outputs": [
        {
          "output_type": "stream",
          "name": "stdout",
          "text": [
            "[1, 2, 3, 4, 5, 6, 7, 8, 9]\n"
          ]
        }
      ]
    },
    {
      "cell_type": "code",
      "source": [
        "h = range(1,10,2)\n",
        "print(list(h))"
      ],
      "metadata": {
        "colab": {
          "base_uri": "https://localhost:8080/"
        },
        "id": "goKVAe9z_tjC",
        "outputId": "42595b2e-f0b3-4f58-8f5c-9d9649731a0f"
      },
      "execution_count": 11,
      "outputs": [
        {
          "output_type": "stream",
          "name": "stdout",
          "text": [
            "[1, 3, 5, 7, 9]\n"
          ]
        }
      ]
    },
    {
      "cell_type": "code",
      "source": [
        "i = range(10,1,-2)\n",
        "print(list(i))"
      ],
      "metadata": {
        "colab": {
          "base_uri": "https://localhost:8080/"
        },
        "id": "IocfORw5_2xG",
        "outputId": "ab6fe3cc-694b-48d5-b873-743d67180729"
      },
      "execution_count": 12,
      "outputs": [
        {
          "output_type": "stream",
          "name": "stdout",
          "text": [
            "[10, 8, 6, 4, 2]\n"
          ]
        }
      ]
    },
    {
      "cell_type": "code",
      "source": [
        "for n in range(3):\n",
        "  print(n)"
      ],
      "metadata": {
        "colab": {
          "base_uri": "https://localhost:8080/"
        },
        "id": "QK4AKC63__qE",
        "outputId": "80715d8d-9901-4a3e-c896-a38d6c70c4d2"
      },
      "execution_count": 13,
      "outputs": [
        {
          "output_type": "stream",
          "name": "stdout",
          "text": [
            "0\n",
            "1\n",
            "2\n"
          ]
        }
      ]
    },
    {
      "cell_type": "code",
      "source": [
        "for n in range(10):\n",
        "  print(n, end=\",\")"
      ],
      "metadata": {
        "colab": {
          "base_uri": "https://localhost:8080/"
        },
        "id": "lVnxvH8j__w8",
        "outputId": "89fcd1bc-84a6-48db-c8e3-9ecdc1068a23"
      },
      "execution_count": 14,
      "outputs": [
        {
          "output_type": "stream",
          "name": "stdout",
          "text": [
            "0,1,2,3,4,5,6,7,8,9,"
          ]
        }
      ]
    },
    {
      "cell_type": "code",
      "source": [
        "for n in range(0,10,2):\n",
        "  print(n, end=\",\")\n"
      ],
      "metadata": {
        "colab": {
          "base_uri": "https://localhost:8080/"
        },
        "id": "JDl5zMDcARar",
        "outputId": "f3c964c9-8142-41c2-d53e-ecb80adb9fa6"
      },
      "execution_count": 15,
      "outputs": [
        {
          "output_type": "stream",
          "name": "stdout",
          "text": [
            "0,2,4,6,8,"
          ]
        }
      ]
    },
    {
      "cell_type": "code",
      "source": [
        "test = int(input(\"請輸入一個正整數\"))\n",
        "for m in range(1, test+1):\n",
        " print(m, end = \" \")"
      ],
      "metadata": {
        "colab": {
          "base_uri": "https://localhost:8080/"
        },
        "id": "UCwm81HZAlaC",
        "outputId": "a560c6c6-b25f-4648-e495-8bd716be49a1"
      },
      "execution_count": 17,
      "outputs": [
        {
          "output_type": "stream",
          "name": "stdout",
          "text": [
            "請輸入一個正整數12\n",
            "1 2 3 4 5 6 7 8 9 10 11 12 "
          ]
        }
      ]
    },
    {
      "cell_type": "code",
      "source": [
        "sum = 0\n",
        "for n in range(3):\n",
        "  sum = sum+n\n",
        "print(sum)"
      ],
      "metadata": {
        "colab": {
          "base_uri": "https://localhost:8080/"
        },
        "id": "4l_N7ZLXBhiY",
        "outputId": "f5efb565-64e6-4a57-baa4-0c4fe4a090b9"
      },
      "execution_count": 20,
      "outputs": [
        {
          "output_type": "stream",
          "name": "stdout",
          "text": [
            "3\n"
          ]
        }
      ]
    },
    {
      "cell_type": "code",
      "source": [
        "sum = 0\n",
        "for n in range(10,-1,-2):\n",
        "  sum = sum+n\n",
        "print(sum)"
      ],
      "metadata": {
        "colab": {
          "base_uri": "https://localhost:8080/"
        },
        "id": "Fn06uS34CCYD",
        "outputId": "e80c2624-1b67-4a77-98d5-08728424fe4e"
      },
      "execution_count": 21,
      "outputs": [
        {
          "output_type": "stream",
          "name": "stdout",
          "text": [
            "30\n"
          ]
        }
      ]
    },
    {
      "cell_type": "code",
      "source": [
        ""
      ],
      "metadata": {
        "id": "CGZ_DS4DCOFW"
      },
      "execution_count": null,
      "outputs": []
    }
  ]
}